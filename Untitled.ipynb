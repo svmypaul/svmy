{
 "cells": [
  {
   "cell_type": "code",
   "execution_count": 16,
   "id": "00d8db3b",
   "metadata": {},
   "outputs": [],
   "source": [
    "def function(data,con,var):\n",
    "    pi=[]\n",
    "    if con=='1':\n",
    "        if var!='all':\n",
    "            for name in var:\n",
    "                mean_value=data[name].mean()\n",
    "                data[name].fillna(value=mean_value, inplace=True)\n",
    "            pi=data\n",
    "        else:\n",
    "            mean_value3=data.mean()\n",
    "            data.fillna(value=mean_value3, inplace=True)\n",
    "            pi=data\n",
    "    elif con=='2': \n",
    "        if var!='all':\n",
    "            for name in var:\n",
    "                mean_value1=data[name].mode()\n",
    "                data[name].fillna(value=mean_value1, inplace=True)\n",
    "            pi=data\n",
    "        else:\n",
    "            mean_value2=data.mode()\n",
    "            data.fillna(value=mean_value2, inplace=True)\n",
    "            pi=data\n",
    "    elif con=='3': \n",
    "        if var!='all':\n",
    "            for name in var:\n",
    "                data[name].fillna(value=0, inplace=True)\n",
    "            pi=data\n",
    "        else:\n",
    "            data.fillna(value=0, inplace=True)\n",
    "            pi=data\n",
    "    else:\n",
    "        print('no input')\n",
    "    return pi"
   ]
  },
  {
   "cell_type": "code",
   "execution_count": 17,
   "id": "84f0c4af",
   "metadata": {},
   "outputs": [
    {
     "data": {
      "text/html": [
       "<div>\n",
       "<style scoped>\n",
       "    .dataframe tbody tr th:only-of-type {\n",
       "        vertical-align: middle;\n",
       "    }\n",
       "\n",
       "    .dataframe tbody tr th {\n",
       "        vertical-align: top;\n",
       "    }\n",
       "\n",
       "    .dataframe thead th {\n",
       "        text-align: right;\n",
       "    }\n",
       "</style>\n",
       "<table border=\"1\" class=\"dataframe\">\n",
       "  <thead>\n",
       "    <tr style=\"text-align: right;\">\n",
       "      <th></th>\n",
       "      <th>x</th>\n",
       "      <th>y</th>\n",
       "      <th>z</th>\n",
       "    </tr>\n",
       "  </thead>\n",
       "  <tbody>\n",
       "    <tr>\n",
       "      <th>0</th>\n",
       "      <td>3.0</td>\n",
       "      <td>4.0</td>\n",
       "      <td>NaN</td>\n",
       "    </tr>\n",
       "    <tr>\n",
       "      <th>1</th>\n",
       "      <td>4.0</td>\n",
       "      <td>4.0</td>\n",
       "      <td>4.0</td>\n",
       "    </tr>\n",
       "    <tr>\n",
       "      <th>2</th>\n",
       "      <td>2.0</td>\n",
       "      <td>8.0</td>\n",
       "      <td>9.0</td>\n",
       "    </tr>\n",
       "    <tr>\n",
       "      <th>3</th>\n",
       "      <td>1.0</td>\n",
       "      <td>5.0</td>\n",
       "      <td>7.0</td>\n",
       "    </tr>\n",
       "    <tr>\n",
       "      <th>4</th>\n",
       "      <td>5.0</td>\n",
       "      <td>7.0</td>\n",
       "      <td>6.0</td>\n",
       "    </tr>\n",
       "    <tr>\n",
       "      <th>5</th>\n",
       "      <td>8.0</td>\n",
       "      <td>6.0</td>\n",
       "      <td>4.0</td>\n",
       "    </tr>\n",
       "    <tr>\n",
       "      <th>6</th>\n",
       "      <td>3.0</td>\n",
       "      <td>2.0</td>\n",
       "      <td>2.0</td>\n",
       "    </tr>\n",
       "    <tr>\n",
       "      <th>7</th>\n",
       "      <td>NaN</td>\n",
       "      <td>5.0</td>\n",
       "      <td>NaN</td>\n",
       "    </tr>\n",
       "    <tr>\n",
       "      <th>8</th>\n",
       "      <td>9.0</td>\n",
       "      <td>NaN</td>\n",
       "      <td>6.0</td>\n",
       "    </tr>\n",
       "  </tbody>\n",
       "</table>\n",
       "</div>"
      ],
      "text/plain": [
       "     x    y    z\n",
       "0  3.0  4.0  NaN\n",
       "1  4.0  4.0  4.0\n",
       "2  2.0  8.0  9.0\n",
       "3  1.0  5.0  7.0\n",
       "4  5.0  7.0  6.0\n",
       "5  8.0  6.0  4.0\n",
       "6  3.0  2.0  2.0\n",
       "7  NaN  5.0  NaN\n",
       "8  9.0  NaN  6.0"
      ]
     },
     "execution_count": 17,
     "metadata": {},
     "output_type": "execute_result"
    }
   ],
   "source": [
    "import pandas as pd\n",
    "df=pd.read_csv(r\"C:\\\\Users\\\\SVMY\\\\Desktop\\\\simple.csv\")\n",
    "df"
   ]
  },
  {
   "cell_type": "code",
   "execution_count": 20,
   "id": "652ab0f1",
   "metadata": {},
   "outputs": [
    {
     "data": {
      "text/html": [
       "<div>\n",
       "<style scoped>\n",
       "    .dataframe tbody tr th:only-of-type {\n",
       "        vertical-align: middle;\n",
       "    }\n",
       "\n",
       "    .dataframe tbody tr th {\n",
       "        vertical-align: top;\n",
       "    }\n",
       "\n",
       "    .dataframe thead th {\n",
       "        text-align: right;\n",
       "    }\n",
       "</style>\n",
       "<table border=\"1\" class=\"dataframe\">\n",
       "  <thead>\n",
       "    <tr style=\"text-align: right;\">\n",
       "      <th></th>\n",
       "      <th>x</th>\n",
       "      <th>y</th>\n",
       "      <th>z</th>\n",
       "    </tr>\n",
       "  </thead>\n",
       "  <tbody>\n",
       "    <tr>\n",
       "      <th>0</th>\n",
       "      <td>3.0</td>\n",
       "      <td>4.0</td>\n",
       "      <td>4.0</td>\n",
       "    </tr>\n",
       "    <tr>\n",
       "      <th>1</th>\n",
       "      <td>4.0</td>\n",
       "      <td>4.0</td>\n",
       "      <td>4.0</td>\n",
       "    </tr>\n",
       "    <tr>\n",
       "      <th>2</th>\n",
       "      <td>2.0</td>\n",
       "      <td>8.0</td>\n",
       "      <td>9.0</td>\n",
       "    </tr>\n",
       "    <tr>\n",
       "      <th>3</th>\n",
       "      <td>1.0</td>\n",
       "      <td>5.0</td>\n",
       "      <td>7.0</td>\n",
       "    </tr>\n",
       "    <tr>\n",
       "      <th>4</th>\n",
       "      <td>5.0</td>\n",
       "      <td>7.0</td>\n",
       "      <td>6.0</td>\n",
       "    </tr>\n",
       "    <tr>\n",
       "      <th>5</th>\n",
       "      <td>8.0</td>\n",
       "      <td>6.0</td>\n",
       "      <td>4.0</td>\n",
       "    </tr>\n",
       "    <tr>\n",
       "      <th>6</th>\n",
       "      <td>3.0</td>\n",
       "      <td>2.0</td>\n",
       "      <td>2.0</td>\n",
       "    </tr>\n",
       "    <tr>\n",
       "      <th>7</th>\n",
       "      <td>0.0</td>\n",
       "      <td>5.0</td>\n",
       "      <td>0.0</td>\n",
       "    </tr>\n",
       "    <tr>\n",
       "      <th>8</th>\n",
       "      <td>9.0</td>\n",
       "      <td>0.0</td>\n",
       "      <td>6.0</td>\n",
       "    </tr>\n",
       "  </tbody>\n",
       "</table>\n",
       "</div>"
      ],
      "text/plain": [
       "     x    y    z\n",
       "0  3.0  4.0  4.0\n",
       "1  4.0  4.0  4.0\n",
       "2  2.0  8.0  9.0\n",
       "3  1.0  5.0  7.0\n",
       "4  5.0  7.0  6.0\n",
       "5  8.0  6.0  4.0\n",
       "6  3.0  2.0  2.0\n",
       "7  0.0  5.0  0.0\n",
       "8  9.0  0.0  6.0"
      ]
     },
     "execution_count": 20,
     "metadata": {},
     "output_type": "execute_result"
    }
   ],
   "source": [
    "function(df,'3','all')"
   ]
  },
  {
   "cell_type": "code",
   "execution_count": 21,
   "id": "95f5048e",
   "metadata": {},
   "outputs": [],
   "source": [
    "import pickle\n",
    "outfile = open(\"clean.pkl\",'wb')\n",
    "pickle.dump(function,outfile)\n",
    "outfile.close()"
   ]
  },
  {
   "cell_type": "code",
   "execution_count": 25,
   "id": "7b034e3c",
   "metadata": {},
   "outputs": [],
   "source": [
    "infile = open(\"clean.pkl\",'rb')\n",
    "f = pickle.load(infile)\n",
    "infile.close()"
   ]
  },
  {
   "cell_type": "code",
   "execution_count": 21,
   "id": "1d4118b6",
   "metadata": {},
   "outputs": [],
   "source": [
    "ft=function(df,'2','all')"
   ]
  },
  {
   "cell_type": "code",
   "execution_count": 22,
   "id": "68601c97",
   "metadata": {},
   "outputs": [
    {
     "name": "stdout",
     "output_type": "stream",
     "text": [
      "     x    y    z\n",
      "0  3.0  4.0  4.0\n",
      "1  4.0  4.0  4.0\n",
      "2  2.0  8.0  9.0\n",
      "3  1.0  5.0  7.0\n",
      "4  5.0  7.0  6.0\n",
      "5  8.0  6.0  4.0\n",
      "6  3.0  2.0  2.0\n",
      "7  0.0  5.0  0.0\n",
      "8  9.0  0.0  6.0\n"
     ]
    }
   ],
   "source": [
    "print(ft)"
   ]
  },
  {
   "cell_type": "code",
   "execution_count": 40,
   "id": "7a6880cc",
   "metadata": {},
   "outputs": [
    {
     "name": "stdout",
     "output_type": "stream",
     "text": [
      "Empty DataFrame\n",
      "Columns: []\n",
      "Index: []\n"
     ]
    }
   ],
   "source": [
    "print(fg)"
   ]
  },
  {
   "cell_type": "code",
   "execution_count": 48,
   "id": "8d942c89",
   "metadata": {},
   "outputs": [
    {
     "data": {
      "text/plain": [
       "9.0"
      ]
     },
     "execution_count": 48,
     "metadata": {},
     "output_type": "execute_result"
    }
   ],
   "source": [
    "mean_value1=df['x'].max()\n",
    "mean_value1"
   ]
  },
  {
   "cell_type": "code",
   "execution_count": 61,
   "id": "63c38ba3",
   "metadata": {},
   "outputs": [
    {
     "data": {
      "text/plain": [
       "['all']"
      ]
     },
     "execution_count": 61,
     "metadata": {},
     "output_type": "execute_result"
    }
   ],
   "source": [
    "a=['all']\n",
    "a"
   ]
  },
  {
   "cell_type": "code",
   "execution_count": 62,
   "id": "27ccee26",
   "metadata": {},
   "outputs": [
    {
     "data": {
      "text/plain": [
       "\"['all']\""
      ]
     },
     "execution_count": 62,
     "metadata": {},
     "output_type": "execute_result"
    }
   ],
   "source": [
    "str(a)"
   ]
  },
  {
   "cell_type": "code",
   "execution_count": 72,
   "id": "2a79798b",
   "metadata": {},
   "outputs": [
    {
     "name": "stdout",
     "output_type": "stream",
     "text": [
      "success\n"
     ]
    }
   ],
   "source": [
    "y=['all']\n",
    "if y[-1]=='all':\n",
    "    print(\"success\")"
   ]
  },
  {
   "cell_type": "code",
   "execution_count": 9,
   "id": "5ea20c37",
   "metadata": {},
   "outputs": [
    {
     "name": "stdout",
     "output_type": "stream",
     "text": [
      "get\n"
     ]
    }
   ],
   "source": [
    "z=['y','z']\n",
    "dj=['']\n",
    "if z==dj :\n",
    "    print('success')\n",
    "else:\n",
    "    print(\"get\")"
   ]
  },
  {
   "cell_type": "code",
   "execution_count": null,
   "id": "fc8a0eba",
   "metadata": {},
   "outputs": [],
   "source": []
  }
 ],
 "metadata": {
  "kernelspec": {
   "display_name": "Python 3",
   "language": "python",
   "name": "python3"
  },
  "language_info": {
   "codemirror_mode": {
    "name": "ipython",
    "version": 3
   },
   "file_extension": ".py",
   "mimetype": "text/x-python",
   "name": "python",
   "nbconvert_exporter": "python",
   "pygments_lexer": "ipython3",
   "version": "3.8.8"
  }
 },
 "nbformat": 4,
 "nbformat_minor": 5
}
