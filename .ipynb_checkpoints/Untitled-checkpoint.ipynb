{
 "cells": [
  {
   "cell_type": "code",
   "execution_count": 17,
   "id": "746dca23",
   "metadata": {},
   "outputs": [],
   "source": [
    "def function(data,con,var):\n",
    "    if con=='1':\n",
    "        if var!='all':\n",
    "            for name in var:\n",
    "                mean_value=data[name].mean()\n",
    "                data[name].fillna(value=mean_value, inplace=True)\n",
    "            print(data)\n",
    "        else:\n",
    "            mean_value3=data.mean()\n",
    "            data.fillna(value=mean_value3, inplace=True)\n",
    "            print(data)\n",
    "    elif con=='2': \n",
    "        if var!='all':\n",
    "            for name in var:\n",
    "                mean_value1=data[name].mode()\n",
    "                data[name].fillna(value=mean_value1, inplace=True)\n",
    "            print(data)\n",
    "        else:\n",
    "            mean_value2=data.mode()\n",
    "            data.fillna(value=mean_value2, inplace=True)\n",
    "            print(data)\n",
    "    elif con=='3': \n",
    "        if var!='all':\n",
    "            for name in var:\n",
    "                data[name].fillna(value=0, inplace=True)\n",
    "            print(data)\n",
    "        else:\n",
    "            data.fillna(value=0, inplace=True)\n",
    "            print(data)\n",
    "    else:\n",
    "        print('no input')"
   ]
  },
  {
   "cell_type": "code",
   "execution_count": 15,
   "id": "6f5d1578",
   "metadata": {},
   "outputs": [
    {
     "data": {
      "text/html": [
       "<div>\n",
       "<style scoped>\n",
       "    .dataframe tbody tr th:only-of-type {\n",
       "        vertical-align: middle;\n",
       "    }\n",
       "\n",
       "    .dataframe tbody tr th {\n",
       "        vertical-align: top;\n",
       "    }\n",
       "\n",
       "    .dataframe thead th {\n",
       "        text-align: right;\n",
       "    }\n",
       "</style>\n",
       "<table border=\"1\" class=\"dataframe\">\n",
       "  <thead>\n",
       "    <tr style=\"text-align: right;\">\n",
       "      <th></th>\n",
       "      <th>x</th>\n",
       "      <th>y</th>\n",
       "      <th>z</th>\n",
       "    </tr>\n",
       "  </thead>\n",
       "  <tbody>\n",
       "    <tr>\n",
       "      <th>0</th>\n",
       "      <td>3.0</td>\n",
       "      <td>4.0</td>\n",
       "      <td>NaN</td>\n",
       "    </tr>\n",
       "    <tr>\n",
       "      <th>1</th>\n",
       "      <td>4.0</td>\n",
       "      <td>4.0</td>\n",
       "      <td>4.0</td>\n",
       "    </tr>\n",
       "    <tr>\n",
       "      <th>2</th>\n",
       "      <td>2.0</td>\n",
       "      <td>8.0</td>\n",
       "      <td>9.0</td>\n",
       "    </tr>\n",
       "    <tr>\n",
       "      <th>3</th>\n",
       "      <td>1.0</td>\n",
       "      <td>5.0</td>\n",
       "      <td>7.0</td>\n",
       "    </tr>\n",
       "    <tr>\n",
       "      <th>4</th>\n",
       "      <td>5.0</td>\n",
       "      <td>7.0</td>\n",
       "      <td>6.0</td>\n",
       "    </tr>\n",
       "    <tr>\n",
       "      <th>5</th>\n",
       "      <td>8.0</td>\n",
       "      <td>6.0</td>\n",
       "      <td>4.0</td>\n",
       "    </tr>\n",
       "    <tr>\n",
       "      <th>6</th>\n",
       "      <td>3.0</td>\n",
       "      <td>2.0</td>\n",
       "      <td>2.0</td>\n",
       "    </tr>\n",
       "    <tr>\n",
       "      <th>7</th>\n",
       "      <td>NaN</td>\n",
       "      <td>5.0</td>\n",
       "      <td>NaN</td>\n",
       "    </tr>\n",
       "    <tr>\n",
       "      <th>8</th>\n",
       "      <td>9.0</td>\n",
       "      <td>NaN</td>\n",
       "      <td>6.0</td>\n",
       "    </tr>\n",
       "  </tbody>\n",
       "</table>\n",
       "</div>"
      ],
      "text/plain": [
       "     x    y    z\n",
       "0  3.0  4.0  NaN\n",
       "1  4.0  4.0  4.0\n",
       "2  2.0  8.0  9.0\n",
       "3  1.0  5.0  7.0\n",
       "4  5.0  7.0  6.0\n",
       "5  8.0  6.0  4.0\n",
       "6  3.0  2.0  2.0\n",
       "7  NaN  5.0  NaN\n",
       "8  9.0  NaN  6.0"
      ]
     },
     "execution_count": 15,
     "metadata": {},
     "output_type": "execute_result"
    }
   ],
   "source": [
    "import pandas as pd\n",
    "df=pd.read_csv(r\"C:\\\\Users\\\\SVMY\\\\Desktop\\\\simple.csv\")\n",
    "df"
   ]
  },
  {
   "cell_type": "code",
   "execution_count": 18,
   "id": "680fadac",
   "metadata": {},
   "outputs": [
    {
     "name": "stdout",
     "output_type": "stream",
     "text": [
      "     x    y    z\n",
      "0  3.0  4.0  0.0\n",
      "1  4.0  4.0  4.0\n",
      "2  2.0  8.0  9.0\n",
      "3  1.0  5.0  7.0\n",
      "4  5.0  7.0  6.0\n",
      "5  8.0  6.0  4.0\n",
      "6  3.0  2.0  2.0\n",
      "7  0.0  5.0  0.0\n",
      "8  9.0  0.0  6.0\n"
     ]
    }
   ],
   "source": [
    "function(df,'3','all')"
   ]
  },
  {
   "cell_type": "code",
   "execution_count": null,
   "id": "c4ff89a8",
   "metadata": {},
   "outputs": [],
   "source": []
  }
 ],
 "metadata": {
  "kernelspec": {
   "display_name": "Python 3",
   "language": "python",
   "name": "python3"
  },
  "language_info": {
   "codemirror_mode": {
    "name": "ipython",
    "version": 3
   },
   "file_extension": ".py",
   "mimetype": "text/x-python",
   "name": "python",
   "nbconvert_exporter": "python",
   "pygments_lexer": "ipython3",
   "version": "3.8.8"
  }
 },
 "nbformat": 4,
 "nbformat_minor": 5
}
